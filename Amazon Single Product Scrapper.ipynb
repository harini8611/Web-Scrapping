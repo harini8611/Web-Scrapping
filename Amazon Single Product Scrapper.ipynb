{
 "cells": [
  {
   "cell_type": "code",
   "execution_count": 1,
   "id": "ecac5049-73fe-4051-af1e-725dc11d6285",
   "metadata": {},
   "outputs": [],
   "source": [
    "url=\"https://www.amazon.in/soundcore-Bluetooth-Headphones-Cancelling-Personalization/dp/B0C3HCD34R/ref=sr_1_2_sspa?crid=2OBR9MH0Q68TM&dib=eyJ2IjoiMSJ9.SxNPJoR7Jp07YgVlcCqtQQSkyDXEFbWC06vmworvSqkoynXhinkdZBL21YL8-6EZV6UIUvWgMst1-wAwMddo0RZNdQUKYeIEYJnmPUb3CuhMoKsZSTZvlqhMj14ET4EQ7mJk6WY7s_SSKP5MqjfRIRgpldYRa95oFiwk95-mvY3hIDBKgdUgF6ZELqru0icBLZ4thTBXnn8wwhGXJhtAJWvEbtHJvj07JYq6Vy3wj0M.HlXWVJuXhOlbOdhC1SQqM5NALvGsoC9CzQeRtmiouYc&dib_tag=se&keywords=headphones&qid=1758086366&sprefix=%2Caps%2C282&sr=8-2-spons&sp_csd=d2lkZ2V0TmFtZT1zcF9hdGY&psc=1\""
   ]
  },
  {
   "cell_type": "code",
   "execution_count": 2,
   "id": "766fdb4d-6fe8-4c81-be0c-a5fc8c341207",
   "metadata": {},
   "outputs": [],
   "source": [
    "from selenium import webdriver\n",
    "from selenium.webdriver.chrome.service import Service\n",
    "from selenium.webdriver.chrome.options import Options\n",
    "\n",
    "options = Options()\n",
    "# Run in visible mode (non-headless)\n",
    "service = Service(\"C:/Program Files/chromedriver-win64/chromedriver.exe\")\n",
    "driver = webdriver.Chrome(service=service, options=options)\n",
    "\n",
    "# Load the page\n",
    "driver.get(url)  # your product URL\n",
    "\n",
    "# Wait for dynamic content to load\n",
    "import time\n",
    "time.sleep(30)  # or use WebDriverWait for better control\n",
    "\n",
    "# Get the full HTML after JavaScript has rendered\n",
    "html = driver.page_source\n",
    "#print(html)\n",
    "\n",
    "driver.quit()\n"
   ]
  },
  {
   "cell_type": "code",
   "execution_count": 3,
   "id": "1dd0e6ae-693a-4905-9939-c84d0e3d86a7",
   "metadata": {},
   "outputs": [
    {
     "name": "stdout",
     "output_type": "stream",
     "text": [
      "Product Title: soundcore by Anker Q20i Wireless Bluetooth Over-Ear Headphones with Hybrid Active Noise Cancelling, 40h Playtime in ANC Mode, Hi-Res Audio, Deep Bass, Personalization via App (Black)\n"
     ]
    }
   ],
   "source": [
    "from bs4 import BeautifulSoup\n",
    "soup = BeautifulSoup(html, \"html.parser\")\n",
    "title = soup.find(id=\"productTitle\")\n",
    "if title:\n",
    "    print(\"Product Title:\", title.get_text(strip=True))\n",
    "else:\n",
    "    print(\"Product title not found.\")\n",
    "\n",
    "TITLE=title.get_text(strip=True)\n",
    "#print(t)"
   ]
  },
  {
   "cell_type": "code",
   "execution_count": 4,
   "id": "12ef9bac-d32e-4edb-af24-98d60a850b06",
   "metadata": {},
   "outputs": [
    {
     "name": "stdout",
     "output_type": "stream",
     "text": [
      "Price: ₹9,598\n"
     ]
    }
   ],
   "source": [
    "from bs4 import BeautifulSoup\n",
    "\n",
    "soup = BeautifulSoup(html, \"html.parser\")\n",
    "\n",
    "price_tag = soup.find(\"span\", class_=\"a-price a-text-price\")  # fixed class name\n",
    "if price_tag:\n",
    "    price_value = price_tag.find(\"span\", class_=\"a-offscreen\")\n",
    "    if price_value:\n",
    "        price = price_value.get_text(strip=True)\n",
    "        print(\"Price:\", price)  # Output: Price: ₹699\n",
    "    else:\n",
    "        print(\"Price not found inside a-price.\")\n",
    "else:\n",
    "    print(\"Price container not found.\")\n",
    "\n",
    "MRP=price"
   ]
  },
  {
   "cell_type": "code",
   "execution_count": 5,
   "id": "f1d648a4-328b-46c4-8648-8f3fd0a7c631",
   "metadata": {},
   "outputs": [
    {
     "name": "stdout",
     "output_type": "stream",
     "text": [
      "Discount: 59\n"
     ]
    }
   ],
   "source": [
    "discount_tag = soup.find(\"span\", class_=\"a-size-large a-color-price savingPriceOverride aok-align-center reinventPriceSavingsPercentageMargin savingsPercentage\")\n",
    "if discount_tag:\n",
    "    discount = discount_tag.get_text(strip=True).replace(\"-\", \"\").replace(\"%\", \"\")\n",
    "    print(\"Discount:\", discount)  # Output: Discount: 43\n",
    "else:\n",
    "    print(\"Discount not found.\")\n",
    "\n",
    "DISCOUNT=discount"
   ]
  },
  {
   "cell_type": "code",
   "execution_count": 6,
   "id": "34ea13ef-bb37-46fd-848e-76e41d757459",
   "metadata": {},
   "outputs": [
    {
     "name": "stdout",
     "output_type": "stream",
     "text": [
      "Price after Discount: ₹3,899.\n"
     ]
    }
   ],
   "source": [
    "price_tag = soup.find(\"span\", class_=\"a-price\")\n",
    "if price_tag:\n",
    "    symbol = price_tag.find(\"span\", class_=\"a-price-symbol\")\n",
    "    whole = price_tag.find(\"span\", class_=\"a-price-whole\")\n",
    "    \n",
    "    if symbol and whole:\n",
    "        full_price = symbol.get_text(strip=True) + whole.get_text(strip=True)\n",
    "        print(\"Price after Discount:\", full_price)\n",
    "    else:\n",
    "        print(\"Price components not found.\")\n",
    "else:\n",
    "    print(\"Price tag not found.\")\n",
    "\n",
    "PRICE=whole.get_text(strip=True)"
   ]
  },
  {
   "cell_type": "code",
   "execution_count": 7,
   "id": "fdf4e21e-fb1d-4c3c-bb82-331e88020216",
   "metadata": {},
   "outputs": [
    {
     "name": "stdout",
     "output_type": "stream",
     "text": [
      "                                                                                                                                                                                 Title    MRP Discount (%) Price After Discount\n",
      "soundcore by Anker Q20i Wireless Bluetooth Over-Ear Headphones with Hybrid Active Noise Cancelling, 40h Playtime in ANC Mode, Hi-Res Audio, Deep Bass, Personalization via App (Black) ₹9,598           59               3,899.\n"
     ]
    }
   ],
   "source": [
    "import pandas as pd\n",
    "\n",
    "pd.set_option('display.max_colwidth', None)  # Show full column width\n",
    "pd.set_option('display.width', 1000)         # Set wide display width\n",
    "\n",
    "data = {\n",
    "    \"Title\": [TITLE],\n",
    "    \"MRP\": [MRP],\n",
    "    \"Discount (%)\": [DISCOUNT],\n",
    "    \"Price After Discount\": [PRICE]\n",
    "}\n",
    "df=pd.DataFrame(data)\n",
    "\n",
    "\n",
    "print(df.to_string(index=False))  # Prevent wrapping and show full table"
   ]
  },
  {
   "cell_type": "code",
   "execution_count": 8,
   "id": "eb2b5451-6f53-4859-a910-eb72c9bc1711",
   "metadata": {},
   "outputs": [
    {
     "data": {
      "text/html": [
       "<style type=\"text/css\">\n",
       "#T_c0181 th {\n",
       "  text-align: center;\n",
       "}\n",
       "#T_c0181 td.col0 {\n",
       "  text-align: center;\n",
       "}\n",
       "</style>\n",
       "<table id=\"T_c0181\">\n",
       "  <thead>\n",
       "    <tr>\n",
       "      <th class=\"blank level0\" >&nbsp;</th>\n",
       "      <th id=\"T_c0181_level0_col0\" class=\"col_heading level0 col0\" >Title</th>\n",
       "      <th id=\"T_c0181_level0_col1\" class=\"col_heading level0 col1\" >MRP</th>\n",
       "      <th id=\"T_c0181_level0_col2\" class=\"col_heading level0 col2\" >Discount (%)</th>\n",
       "      <th id=\"T_c0181_level0_col3\" class=\"col_heading level0 col3\" >Price After Discount</th>\n",
       "    </tr>\n",
       "  </thead>\n",
       "  <tbody>\n",
       "    <tr>\n",
       "      <th id=\"T_c0181_level0_row0\" class=\"row_heading level0 row0\" >0</th>\n",
       "      <td id=\"T_c0181_row0_col0\" class=\"data row0 col0\" >soundcore by Anker Q20i Wireless Bluetooth Over-Ear Headphones with Hybrid Active Noise Cancelling, 40h Playtime in ANC Mode, Hi-Res Audio, Deep Bass, Personalization via App (Black)</td>\n",
       "      <td id=\"T_c0181_row0_col1\" class=\"data row0 col1\" >₹9598</td>\n",
       "      <td id=\"T_c0181_row0_col2\" class=\"data row0 col2\" >59</td>\n",
       "      <td id=\"T_c0181_row0_col3\" class=\"data row0 col3\" >₹3899</td>\n",
       "    </tr>\n",
       "  </tbody>\n",
       "</table>\n"
      ],
      "text/plain": [
       "<IPython.core.display.HTML object>"
      ]
     },
     "metadata": {},
     "output_type": "display_data"
    }
   ],
   "source": [
    "import pandas as pd\n",
    "from IPython.display import display, HTML\n",
    "\n",
    "data = {\n",
    "    \"Title\": [TITLE],           # Full title\n",
    "    \"MRP\": [MRP],               # Might be \"₹699\" or 699\n",
    "    \"Discount (%)\": [DISCOUNT], # e.g. 43\n",
    "    \"Price After Discount\": [PRICE]  # Might be \"399.0\"\n",
    "}\n",
    "\n",
    "df = pd.DataFrame(data)\n",
    "\n",
    "# Clean MRP & Price — remove ₹ if present and convert to numbers\n",
    "def clean_number(x):\n",
    "    if x is None or str(x).strip() == \"\":\n",
    "        return None\n",
    "    try:\n",
    "        return float(str(x).replace(\"₹\", \"\").replace(\",\", \"\").strip())\n",
    "    except:\n",
    "        return None\n",
    "\n",
    "\n",
    "df[\"MRP\"] = df[\"MRP\"].apply(clean_number)\n",
    "df[\"Price After Discount\"] = df[\"Price After Discount\"].apply(clean_number)\n",
    "\n",
    "# Format with ₹\n",
    "df[\"MRP\"] = df[\"MRP\"].apply(lambda x: f\"₹{int(x)}\" if pd.notnull(x) else \"N/A\")\n",
    "df[\"Price After Discount\"] = df[\"Price After Discount\"].apply(\n",
    "    lambda x: f\"₹{int(x)}\" if pd.notnull(x) and x.is_integer() else f\"₹{x:.2f}\" if pd.notnull(x) else \"N/A\"\n",
    ")\n",
    "\n",
    "# Style: center Title column text\n",
    "styled_table = df.style.set_table_styles([\n",
    "    {\"selector\": \"th\", \"props\": [(\"text-align\", \"center\")]},  # center headers\n",
    "    {\"selector\": \"td.col0\", \"props\": [(\"text-align\", \"center\")]}  # center first column (Title)\n",
    "])\n",
    "\n",
    "display(HTML(styled_table.to_html()))\n"
   ]
  },
  {
   "cell_type": "code",
   "execution_count": null,
   "id": "ac4ea4ba-d4a8-4b79-a64b-3e1c38e90469",
   "metadata": {},
   "outputs": [],
   "source": []
  }
 ],
 "metadata": {
  "kernelspec": {
   "display_name": "Python 3 (ipykernel)",
   "language": "python",
   "name": "python3"
  },
  "language_info": {
   "codemirror_mode": {
    "name": "ipython",
    "version": 3
   },
   "file_extension": ".py",
   "mimetype": "text/x-python",
   "name": "python",
   "nbconvert_exporter": "python",
   "pygments_lexer": "ipython3",
   "version": "3.13.5"
  }
 },
 "nbformat": 4,
 "nbformat_minor": 5
}
